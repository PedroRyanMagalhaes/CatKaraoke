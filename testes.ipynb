{
 "cells": [
  {
   "cell_type": "code",
   "execution_count": 13,
   "metadata": {},
   "outputs": [
    {
     "name": "stdout",
     "output_type": "stream",
     "text": [
      "200\n"
     ]
    }
   ],
   "source": [
    "import requests\n",
    "\n",
    "endpoint = \"https://api.lyrics.ovh/v1/kanye_west/i_wonder\"\n",
    "\n",
    "response = requests.get(endpoint)\n",
    "print (response.status_code)\n"
   ]
  },
  {
   "cell_type": "code",
   "execution_count": 12,
   "metadata": {},
   "outputs": [
    {
     "name": "stdout",
     "output_type": "stream",
     "text": [
      "I been waitin'on this my whole life\n",
      "These dreams be wakin'me up at night\n",
      "You say I think I'm never wrong\n",
      "You know what maybe you're right (iight)\n",
      "You say he get on your fuckin' nerves\n",
      "\n",
      "You hope that he gets what he deserves (word)\n",
      "\n",
      "Do you even remember what the issue is\n",
      "\n",
      "You just tryna'find where the tissue is\n",
      "\n",
      "You could still be who you wish you is\n",
      "\n",
      "Ain't happen yet\n",
      "\n",
      "But that's what intuition is\n",
      "\n",
      "\n",
      "\n",
      "When you hop back in the car\n",
      "\n",
      "Drive back to the crib\n",
      "\n",
      "Run back to they arms\n",
      "\n",
      "The smoke screens\n",
      "\n",
      "The smoke and the screens\n",
      "\n",
      "You ever wonder what it all really means\n",
      "\n",
      "\n",
      "\n",
      "And I'm back on my grind\n",
      "\n",
      "A Physic read my life line\n",
      "\n",
      "Told me you're my life time\n",
      "\n",
      "Money would help light up the Chicago skyline\n",
      "\n",
      "And that's why I'm\n",
      "\n",
      "Seven o'clock that's prime time\n",
      "\n",
      "Heaven I watch god callin' from the hotline\n",
      "\n",
      "Why he keep given me Hot lines\n",
      "\n",
      "I'm a star\n",
      "\n",
      "How could I not shine?\n",
      "\n",
      "\n",
      "\n",
      "How many ladies in the house?\n",
      "\n",
      "How many ladies in the house with out a spouse\n",
      "\n",
      "Some thing in your blouse got be feelin'\n",
      "\n",
      "What you about?\n",
      "\n",
      "On dat independent shit\n",
      "\n",
      "Trade it all for a husband and some kids\n",
      "\n",
      "You ever wonder what it all really means\n",
      "\n",
      "You wonder if you'll ever find your dreams\n"
     ]
    }
   ],
   "source": [
    "print(response.json()['lyrics'])"
   ]
  }
 ],
 "metadata": {
  "kernelspec": {
   "display_name": ".venv",
   "language": "python",
   "name": "python3"
  },
  "language_info": {
   "codemirror_mode": {
    "name": "ipython",
    "version": 3
   },
   "file_extension": ".py",
   "mimetype": "text/x-python",
   "name": "python",
   "nbconvert_exporter": "python",
   "pygments_lexer": "ipython3",
   "version": "3.12.5"
  }
 },
 "nbformat": 4,
 "nbformat_minor": 2
}
